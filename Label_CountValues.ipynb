{
 "cells": [
  {
   "cell_type": "code",
   "execution_count": 79,
   "metadata": {},
   "outputs": [],
   "source": [
    "import pandas as pd\n",
    "import matplotlib.pyplot as plt\n",
    "import re\n",
    "import numpy as np\n",
    "\n",
    "plt.style.use(\"tableau-colorblind10\")\n",
    "\n",
    "font = {'family' : 'arial',\n",
    "        'weight' : 'normal',\n",
    "        'size'   : 18}\n",
    "\n",
    "plt.rc('font', **font)"
   ]
  },
  {
   "cell_type": "code",
   "execution_count": 80,
   "metadata": {},
   "outputs": [],
   "source": [
    "books_2021 = pd.read_excel(\"BookLog.xlsx\", header = 0)"
   ]
  },
  {
   "cell_type": "code",
   "execution_count": 81,
   "metadata": {},
   "outputs": [
    {
     "data": {
      "text/html": [
       "<div>\n",
       "<style scoped>\n",
       "    .dataframe tbody tr th:only-of-type {\n",
       "        vertical-align: middle;\n",
       "    }\n",
       "\n",
       "    .dataframe tbody tr th {\n",
       "        vertical-align: top;\n",
       "    }\n",
       "\n",
       "    .dataframe thead th {\n",
       "        text-align: right;\n",
       "    }\n",
       "</style>\n",
       "<table border=\"1\" class=\"dataframe\">\n",
       "  <thead>\n",
       "    <tr style=\"text-align: right;\">\n",
       "      <th></th>\n",
       "      <th>Year</th>\n",
       "      <th>Month</th>\n",
       "      <th>Title</th>\n",
       "      <th>Author_Last1</th>\n",
       "      <th>Author_First1</th>\n",
       "      <th>Unnamed: 5</th>\n",
       "      <th>Unnamed: 6</th>\n",
       "      <th>Author Gender</th>\n",
       "      <th>Fiction</th>\n",
       "      <th>BIPOC</th>\n",
       "      <th>Asian</th>\n",
       "      <th>Queer</th>\n",
       "      <th>YA</th>\n",
       "      <th>Memoir</th>\n",
       "      <th>Graphic Novel</th>\n",
       "    </tr>\n",
       "  </thead>\n",
       "  <tbody>\n",
       "    <tr>\n",
       "      <th>0</th>\n",
       "      <td>2021</td>\n",
       "      <td>1</td>\n",
       "      <td>Memorial</td>\n",
       "      <td>Washington</td>\n",
       "      <td>Bryan</td>\n",
       "      <td>NaN</td>\n",
       "      <td>NaN</td>\n",
       "      <td>M</td>\n",
       "      <td>Y</td>\n",
       "      <td>Y</td>\n",
       "      <td>Y</td>\n",
       "      <td>Y</td>\n",
       "      <td>N</td>\n",
       "      <td>N</td>\n",
       "      <td>N</td>\n",
       "    </tr>\n",
       "    <tr>\n",
       "      <th>1</th>\n",
       "      <td>2021</td>\n",
       "      <td>1</td>\n",
       "      <td>Who I Was with Her</td>\n",
       "      <td>Tyndall</td>\n",
       "      <td>Nita</td>\n",
       "      <td>NaN</td>\n",
       "      <td>NaN</td>\n",
       "      <td>NB</td>\n",
       "      <td>Y</td>\n",
       "      <td>N</td>\n",
       "      <td>N</td>\n",
       "      <td>Y</td>\n",
       "      <td>Y</td>\n",
       "      <td>N</td>\n",
       "      <td>N</td>\n",
       "    </tr>\n",
       "    <tr>\n",
       "      <th>2</th>\n",
       "      <td>2021</td>\n",
       "      <td>1</td>\n",
       "      <td>Know My Name</td>\n",
       "      <td>Miller</td>\n",
       "      <td>Chanel</td>\n",
       "      <td>NaN</td>\n",
       "      <td>NaN</td>\n",
       "      <td>W</td>\n",
       "      <td>N</td>\n",
       "      <td>N</td>\n",
       "      <td>Y</td>\n",
       "      <td>N</td>\n",
       "      <td>N</td>\n",
       "      <td>Y</td>\n",
       "      <td>N</td>\n",
       "    </tr>\n",
       "    <tr>\n",
       "      <th>3</th>\n",
       "      <td>2021</td>\n",
       "      <td>1</td>\n",
       "      <td>The Bean Trees</td>\n",
       "      <td>Barbara</td>\n",
       "      <td>Kingsolver</td>\n",
       "      <td>NaN</td>\n",
       "      <td>NaN</td>\n",
       "      <td>W</td>\n",
       "      <td>Y</td>\n",
       "      <td>N</td>\n",
       "      <td>N</td>\n",
       "      <td>N</td>\n",
       "      <td>N</td>\n",
       "      <td>N</td>\n",
       "      <td>N</td>\n",
       "    </tr>\n",
       "    <tr>\n",
       "      <th>4</th>\n",
       "      <td>2021</td>\n",
       "      <td>2</td>\n",
       "      <td>I Hate Everyone But You</td>\n",
       "      <td>Raskin</td>\n",
       "      <td>Allison</td>\n",
       "      <td>Dunn</td>\n",
       "      <td>Gaby</td>\n",
       "      <td>NB</td>\n",
       "      <td>Y</td>\n",
       "      <td>N</td>\n",
       "      <td>N</td>\n",
       "      <td>Y</td>\n",
       "      <td>Y</td>\n",
       "      <td>N</td>\n",
       "      <td>N</td>\n",
       "    </tr>\n",
       "  </tbody>\n",
       "</table>\n",
       "</div>"
      ],
      "text/plain": [
       "   Year  Month                    Title Author_Last1 Author_First1 Unnamed: 5  \\\n",
       "0  2021      1                 Memorial   Washington         Bryan        NaN   \n",
       "1  2021      1       Who I Was with Her      Tyndall          Nita        NaN   \n",
       "2  2021      1             Know My Name       Miller        Chanel        NaN   \n",
       "3  2021      1           The Bean Trees      Barbara    Kingsolver        NaN   \n",
       "4  2021      2  I Hate Everyone But You       Raskin       Allison       Dunn   \n",
       "\n",
       "  Unnamed: 6 Author Gender Fiction BIPOC Asian Queer YA Memoir Graphic Novel  \n",
       "0        NaN             M       Y     Y     Y     Y  N      N             N  \n",
       "1        NaN            NB       Y     N     N     Y  Y      N             N  \n",
       "2        NaN             W       N     N     Y     N  N      Y             N  \n",
       "3        NaN             W       Y     N     N     N  N      N             N  \n",
       "4       Gaby            NB       Y     N     N     Y  Y      N             N  "
      ]
     },
     "execution_count": 81,
     "metadata": {},
     "output_type": "execute_result"
    }
   ],
   "source": [
    "books_2021.head()"
   ]
  },
  {
   "cell_type": "code",
   "execution_count": 82,
   "metadata": {},
   "outputs": [
    {
     "data": {
      "image/png": "[encoded data removed]",
      "text/plain": [
       "<Figure size 432x288 with 1 Axes>"
      ]
     },
     "metadata": {
      "needs_background": "light"
     },
     "output_type": "display_data"
    }
   ],
   "source": [
    "books_plot_1 = books_2021.groupby([\"Queer\",\"Fiction\"])[\"Author Gender\"].value_counts().unstack()\\\n",
    ".apply(lambda x: x/(books_2021.shape[0])*100).plot(kind = \"barh\",stacked = True)\n",
    "\n",
    "books_plot_1.set(xlabel = \"Percentage of 2021 Books\", title = \"Evi's 2021 Reads\", xlim = [0,100])\n",
    "\n",
    "plt.show()"
   ]
  },
  {
   "cell_type": "code",
   "execution_count": 85,
   "metadata": {},
   "outputs": [
    {
     "data": {
      "image/png": "[encoded data removed]",
      "text/plain": [
       "<Figure size 432x288 with 1 Axes>"
      ]
     },
     "metadata": {
      "needs_background": "light"
     },
     "output_type": "display_data"
    }
   ],
   "source": [
    "books_plot_2 = books_2021.groupby([\"Queer\",\"Fiction\"])[\"Author Gender\"].value_counts().unstack()\\\n",
    ".apply(lambda x: x/(books_2021.shape[0])*100).plot(kind = \"barh\",stacked = True)\n",
    "\n",
    "y_labs = list(books_plot_2.get_ylabel().split(\",\"))\n",
    "\n",
    "new_labels = []\n",
    "\n",
    "for i in books_plot_2.get_yticklabels():\n",
    "\n",
    "    l_out = [c for c in range(len(list(i.get_text()))) if list(i.get_text())[c] in [\"Y\",\"N\"]]\n",
    "    \n",
    "    new_out = [y_labs[j] + \" = Y\" if out_v[l_out[j]] ==\"Y\"\\\n",
    "               else y_labs[j] + \" = N\" for j in range(len(l_out)) ]\n",
    "\n",
    "    new_labels.append(new_out[0] + \"\\n\" + new_out[1])\n",
    "\n",
    "books_plot_2.set(ylabel = None, xlabel = \"% of 2021 Books\", xlim = [0,100],\\\n",
    "                 title = \"Evi's 2021 Reads\", yticklabels = new_labels)\n",
    "plt.show()"
   ]
  },
  {
   "cell_type": "code",
   "execution_count": null,
   "metadata": {},
   "outputs": [],
   "source": []
  }
 ],
 "metadata": {
  "kernelspec": {
   "display_name": "Python 3",
   "language": "python",
   "name": "python3"
  },
  "language_info": {
   "codemirror_mode": {
    "name": "ipython",
    "version": 3
   },
   "file_extension": ".py",
   "mimetype": "text/x-python",
   "name": "python",
   "nbconvert_exporter": "python",
   "pygments_lexer": "ipython3",
   "version": "3.8.5"
  }
 },
 "nbformat": 4,
 "nbformat_minor": 4
}
